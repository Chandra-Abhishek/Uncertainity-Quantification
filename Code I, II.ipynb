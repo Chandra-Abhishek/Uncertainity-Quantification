{
 "cells": [
  {
   "cell_type": "markdown",
   "metadata": {},
   "source": [
    "# Uncertainty Quantification Project\n",
    "\n",
    "## Codes Part I, II\n",
    "\n",
    "### Abhishek Chandra - M2CHPS (University of Lille)"
   ]
  },
  {
   "cell_type": "code",
   "execution_count": 39,
   "metadata": {},
   "outputs": [],
   "source": [
    "# importing support libraries\n",
    "\n",
    "import numpy as np                   # for making arrays, martix, calculating mean, variance etc.\n",
    "import matplotlib.pyplot as plt      # for plottimg histograms etc\n",
    "from scipy.stats import norm         # To use in gaussian distribution"
   ]
  },
  {
   "cell_type": "code",
   "execution_count": 40,
   "metadata": {},
   "outputs": [],
   "source": [
    "# Defining constant input parameters of the model\n",
    "\n",
    "rcul = 8.8e-3          # radius of the iron core\n",
    "rbob = 17e-3           # external radius of the coil\n",
    "rclo = 20e-3           # external radius\n",
    "raim = 9.4e-3          # radius of the magnet\n",
    "\n",
    "hclo = 6e-3            # height of base of the yoke\n",
    "hent = 6e-3            # height of the air gap\n",
    "hbob = 9e-3            # height of the coil\n",
    "hpm = 5e-3             # height of the mobil plate\n",
    "\n",
    "mur = 3000             # relative permeability of the yoke\n",
    "n = 3200               # number of turns"
   ]
  },
  {
   "cell_type": "code",
   "execution_count": 41,
   "metadata": {},
   "outputs": [],
   "source": [
    "# Defining random input parameters of the model (at the moment feeding deterministic values)\n",
    "\n",
    "br = 1.2               # remanent magnetic flux density of the magnet     uncertainty - 5%\n",
    "haim = 10e-3           # height of the magnet                             uncertainty - 5%\n",
    "e = 0.5e-3             # air gap between the core and the yoke            uncertainty - 15%\n",
    "ep = 5e-5              # parasitic air gap                                uncertainty - 40%\n",
    "current = 0.0652       # current in the coil                              uncertainty - 10%"
   ]
  },
  {
   "cell_type": "code",
   "execution_count": 42,
   "metadata": {},
   "outputs": [
    {
     "name": "stdout",
     "output_type": "stream",
     "text": [
      "Determinitic mean of force 1:  147.80442684301696\n",
      "Determinitic mean of force 2:  0.00015857704866025844\n",
      "Determinitic std of force 1:  0.0\n",
      "Determinitic std of force 2:  0.0\n"
     ]
    }
   ],
   "source": [
    "# Defining Constant\n",
    "mu0=4*np.pi*1e-7                                                 # permeability of the air\n",
    "\n",
    "#Calculation of the reluctances\n",
    "Re=e/(mu0*2*np.pi*(rbob-e)*hent)                                  # reluctance of the airgap\n",
    "Rp=ep/(mu0*np.pi*rcul*rcul)+ep/(mu0*np.pi*(rclo*rclo-rbob*rbob))  # reluctance of the paraistic airgap\n",
    "Ra=haim/(mu0*np.pi*raim*raim)                                     # reluctance of the magnet\n",
    "ksia=br*haim/mu0                                                  # magnetomotive force of the magnet\n",
    "\n",
    "# Calculation of the flux\n",
    "# When no currrent is supplied\n",
    "\n",
    "phia1=((Rp+Re)*ksia)/(Ra*Rp+Ra*Re+Re*Rp)                          # flux flowing through the permanent magnet\n",
    "phib1=-(Re*ksia)/(Ra*Rp+Ra*Re+Re*Rp)                              # magnetic flux in the mobil plate\n",
    "\n",
    "#calculation of force 1\n",
    "force1=np.abs((phib1*phib1)/(2*mu0*np.pi*rcul*rcul)+phib1*phib1/(2*mu0*np.pi*(rclo*rclo-rbob*rbob)))\n",
    "\n",
    "# When currrent is supplied\n",
    "\n",
    "phia2=((Rp+Re)*(ksia)-(Re*n*current))/((Ra*Rp)+(Ra*Re)+(Re*Rp))   # flux flowing through the permanent magnet\n",
    "phib2=((Ra+Re)*n*current-Re*ksia)/(Ra*Rp+Ra*Re+Re*Rp)             # magnetic flux in the mobil plate\n",
    "\n",
    "#calculation of force 2\n",
    "force2=np.abs((phib2*phib2)/(2*mu0*np.pi*rcul*rcul)+phib2*phib2/(2*mu0*np.pi*(rclo*rclo-rbob*rbob)))\n",
    "print(\"Determinitic mean of force 1: \",np.mean(force1))\n",
    "print(\"Determinitic mean of force 2: \",np.mean(force2))\n",
    "print(\"Determinitic std of force 1: \",np.std(force1))\n",
    "print(\"Determinitic std of force 2: \",np.std(force2))"
   ]
  },
  {
   "cell_type": "markdown",
   "metadata": {},
   "source": [
    "# Part - I"
   ]
  },
  {
   "cell_type": "markdown",
   "metadata": {},
   "source": [
    "### In this part we will consider random variable only in the following variables\n",
    "br = 1.2;\n",
    "haim = 10e-3;\n",
    "e = 0.5e-3;\n",
    "ep = 5e-5;\n",
    "current = 0.0652"
   ]
  },
  {
   "cell_type": "markdown",
   "metadata": {},
   "source": [
    "## Question 1.1 and 1.2"
   ]
  },
  {
   "cell_type": "code",
   "execution_count": 43,
   "metadata": {},
   "outputs": [],
   "source": [
    "# Defining R - number of samples to be generated\n",
    "\n",
    "R = 10000"
   ]
  },
  {
   "cell_type": "code",
   "execution_count": 44,
   "metadata": {},
   "outputs": [],
   "source": [
    "# Defining bounds of br from which samples have to be generated\n",
    "br_min = br - 0.05*br\n",
    "br_max = br + 0.05*br\n",
    "haim_min = haim - 0.05*haim  \n",
    "haim_max = haim + 0.05*haim   \n",
    "e_min = e - 0.15*e\n",
    "e_max = e + 0.15*e\n",
    "ep_min = ep - 0.4*ep \n",
    "ep_max = ep + 0.4*ep \n",
    "current_min = current  - 0.1*current\n",
    "current_max = current  + 0.1*current"
   ]
  },
  {
   "cell_type": "markdown",
   "metadata": {},
   "source": [
    "### We start with having uncertainties in one input at a time. Uncomment the parameter which you want to make nondeterministic. We start with uniform distribution"
   ]
  },
  {
   "cell_type": "code",
   "execution_count": 51,
   "metadata": {},
   "outputs": [],
   "source": [
    "# Generating R samples from uniform distribution -- uncomment the required one\n",
    "\n",
    "br = np.random.uniform(br_min, br_max, R)\n",
    "haim = np.random.uniform(haim_min, haim_max, R)\n",
    "e = np.random.uniform(e_min, e_max, R)\n",
    "ep = np.random.uniform(ep_min, ep_max, R)\n",
    "current = np.random.uniform(current_min, current_max, R)"
   ]
  },
  {
   "cell_type": "code",
   "execution_count": 52,
   "metadata": {},
   "outputs": [],
   "source": [
    "# Defining Constant\n",
    "mu0=4*np.pi*1e-7                                                 # permeability of the air\n",
    "\n",
    "#Calculation of the reluctances\n",
    "Re=e/(mu0*2*np.pi*(rbob-e)*hent)                                  # reluctance of the airgap\n",
    "Rp=ep/(mu0*np.pi*rcul*rcul)+ep/(mu0*np.pi*(rclo*rclo-rbob*rbob))  # reluctance of the paraistic airgap\n",
    "Ra=haim/(mu0*np.pi*raim*raim)                                     # reluctance of the magnet\n",
    "ksia=br*haim/mu0                                                  # magnetomotive force of the magnet\n",
    "\n",
    "# Calculation of the flux\n",
    "# When no currrent is supplied\n",
    "\n",
    "phia1=((Rp+Re)*ksia)/(Ra*Rp+Ra*Re+Re*Rp)                          # flux flowing through the permanent magnet\n",
    "phib1=-(Re*ksia)/(Ra*Rp+Ra*Re+Re*Rp)                              # magnetic flux in the mobil plate\n",
    "\n",
    "#calculation of force 1\n",
    "force1=np.abs((phib1*phib1)/(2*mu0*np.pi*rcul*rcul)+phib1*phib1/(2*mu0*np.pi*(rclo*rclo-rbob*rbob)))\n",
    "\n",
    "# When currrent is supplied\n",
    "\n",
    "phia2=((Rp+Re)*(ksia)-(Re*n*current))/((Ra*Rp)+(Ra*Re)+(Re*Rp))   # flux flowing through the permanent magnet\n",
    "phib2=((Ra+Re)*n*current-Re*ksia)/(Ra*Rp+Ra*Re+Re*Rp)             # magnetic flux in the mobil plate\n",
    "\n",
    "#calculation of force 2\n",
    "force2=np.abs((phib2*phib2)/(2*mu0*np.pi*rcul*rcul)+phib2*phib2/(2*mu0*np.pi*(rclo*rclo-rbob*rbob)))"
   ]
  },
  {
   "cell_type": "code",
   "execution_count": 53,
   "metadata": {},
   "outputs": [
    {
     "name": "stdout",
     "output_type": "stream",
     "text": [
      "mean value of force 1:  149.86896081326387\n",
      "mean value of force 2:  1.828197804479219\n"
     ]
    }
   ],
   "source": [
    "# Calculating mean for forces\n",
    "\n",
    "mean_force1 = np.mean(force1)\n",
    "mean_force2 = np.mean(force2)\n",
    "print(\"mean value of force 1: \",mean_force1)\n",
    "print(\"mean value of force 2: \",mean_force2)"
   ]
  },
  {
   "cell_type": "code",
   "execution_count": 54,
   "metadata": {},
   "outputs": [
    {
     "name": "stdout",
     "output_type": "stream",
     "text": [
      "standard deviation of force 1:  24.57087723752309\n",
      "standard deviation of force 2:  2.235007270051441\n"
     ]
    }
   ],
   "source": [
    "# Calculating standard deviation for forces\n",
    "\n",
    "std_force1 = np.std(force1)\n",
    "std_force2 = np.std(force2)\n",
    "print(\"standard deviation of force 1: \",std_force1)\n",
    "print(\"standard deviation of force 2: \",std_force2)"
   ]
  },
  {
   "cell_type": "code",
   "execution_count": 55,
   "metadata": {},
   "outputs": [
    {
     "data": {
      "image/png": "[encoded data removed]",
      "text/plain": [
       "<Figure size 432x288 with 2 Axes>"
      ]
     },
     "metadata": {
      "needs_background": "light"
     },
     "output_type": "display_data"
    }
   ],
   "source": [
    "# Plotting histograms for forces\n",
    "\n",
    "fig, axs = plt.subplots(1, 2, sharey=True, tight_layout=True)\n",
    "axs[0].hist(force1, bins= 'auto')\n",
    "axs[1].hist(force2, bins= 'auto')\n",
    "axs[0].set_title('Force 1')\n",
    "axs[1].set_title('Force 2')\n",
    "fig.text(0.5, 0.02, 'output samples', ha='center', va='center')\n",
    "fig.text(0.02, 0.5, 'frequency', ha='center', va='center', rotation='vertical')\n",
    "plt.savefig('All random uniform.jpg')\n",
    "plt.show()"
   ]
  },
  {
   "cell_type": "markdown",
   "metadata": {},
   "source": [
    "### Next, we perform the simulations using the normal distribution"
   ]
  },
  {
   "cell_type": "code",
   "execution_count": 16,
   "metadata": {},
   "outputs": [],
   "source": [
    "br_normal_mean = (br_min + br_max)/2\n",
    "br_normal_variance = ((br_max - br_min)**2)/12\n",
    "haim_normal_mean = (haim_min + haim_max)/2\n",
    "haim_normal_variance = ((haim_max - haim_min)**2)/12\n",
    "e_normal_mean = (e_min + e_max)/2\n",
    "e_normal_variance = ((e_max - e_min)**2)/12\n",
    "ep_normal_mean = (ep_min + ep_max)/2\n",
    "ep_normal_variance = ((ep_max - ep_min)**2)/12\n",
    "current_normal_mean = (current_min + current_max)/2\n",
    "current_normal_variance = ((current_max - current_min)**2)/12"
   ]
  },
  {
   "cell_type": "code",
   "execution_count": 17,
   "metadata": {},
   "outputs": [],
   "source": [
    "# Generating R samples from normal distribution\n",
    "\n",
    "br = np.random.normal(br_normal_mean, br_normal_variance, R)\n",
    "haim = np.random.normal(haim_normal_mean, haim_normal_variance, R)\n",
    "e = np.random.normal(e_normal_mean, e_normal_variance, R)\n",
    "ep = np.random.normal(ep_normal_mean, ep_normal_variance, R)\n",
    "current = np.random.normal(current_normal_mean, current_normal_variance, R)"
   ]
  },
  {
   "cell_type": "code",
   "execution_count": 18,
   "metadata": {},
   "outputs": [],
   "source": [
    "# Defining Constant\n",
    "mu0=4*np.pi*1e-7                                                 # permeability of the air\n",
    "\n",
    "#Calculation of the reluctances\n",
    "Re=e/(mu0*2*np.pi*(rbob-e)*hent)                                  # reluctance of the airgap\n",
    "Rp=ep/(mu0*np.pi*rcul*rcul)+ep/(mu0*np.pi*(rclo*rclo-rbob*rbob))  # reluctance of the paraistic airgap\n",
    "Ra=haim/(mu0*np.pi*raim*raim)                                     # reluctance of the magnet\n",
    "ksia=br*haim/mu0                                                  # magnetomotive force of the magnet\n",
    "\n",
    "# Calculation of the flux\n",
    "# When no currrent is supplied\n",
    "\n",
    "phia1=((Rp+Re)*ksia)/(Ra*Rp+Ra*Re+Re*Rp)                          # flux flowing through the permanent magnet\n",
    "phib1=-(Re*ksia)/(Ra*Rp+Ra*Re+Re*Rp)                              # magnetic flux in the mobil plate\n",
    "\n",
    "#calculation of force 1\n",
    "force1=np.abs((phib1*phib1)/(2*mu0*np.pi*rcul*rcul)+phib1*phib1/(2*mu0*np.pi*(rclo*rclo-rbob*rbob)))\n",
    "\n",
    "# When currrent is supplied\n",
    "\n",
    "phia2=((Rp+Re)*(ksia)-(Re*n*current))/((Ra*Rp)+(Ra*Re)+(Re*Rp))   # flux flowing through the permanent magnet\n",
    "phib2=((Ra+Re)*n*current-Re*ksia)/(Ra*Rp+Ra*Re+Re*Rp)             # magnetic flux in the mobil plate\n",
    "\n",
    "#calculation of force 2\n",
    "force2=np.abs((phib2*phib2)/(2*mu0*np.pi*rcul*rcul)+phib2*phib2/(2*mu0*np.pi*(rclo*rclo-rbob*rbob)))"
   ]
  },
  {
   "cell_type": "code",
   "execution_count": 19,
   "metadata": {},
   "outputs": [
    {
     "name": "stdout",
     "output_type": "stream",
     "text": [
      "mean value of force 1:  147.80888442866137\n",
      "mean value of force 2:  0.0003098955095138679\n"
     ]
    }
   ],
   "source": [
    "# Calculating mean for forces\n",
    "\n",
    "mean_force1 = np.mean(force1)\n",
    "mean_force2 = np.mean(force2)\n",
    "print(\"mean value of force 1: \",mean_force1)\n",
    "print(\"mean value of force 2: \",mean_force2)"
   ]
  },
  {
   "cell_type": "code",
   "execution_count": 20,
   "metadata": {},
   "outputs": [
    {
     "name": "stdout",
     "output_type": "stream",
     "text": [
      "standard deviation of force 1:  0.2955077270644268\n",
      "standard deviation of force 2:  0.00038396966904936084\n"
     ]
    }
   ],
   "source": [
    "# Calculating standard deviation for forces\n",
    "\n",
    "std_force1 = np.std(force1)\n",
    "std_force2 = np.std(force2)\n",
    "print(\"standard deviation of force 1: \",std_force1)\n",
    "print(\"standard deviation of force 2: \",std_force2)"
   ]
  },
  {
   "cell_type": "code",
   "execution_count": 21,
   "metadata": {},
   "outputs": [
    {
     "data": {
      "image/png": "[encoded data removed]",
      "text/plain": [
       "<Figure size 432x288 with 2 Axes>"
      ]
     },
     "metadata": {
      "needs_background": "light"
     },
     "output_type": "display_data"
    }
   ],
   "source": [
    "# Plotting histograms for forces\n",
    "\n",
    "fig, axs = plt.subplots(1, 2, sharey=True, tight_layout=True)\n",
    "axs[0].hist(force1, bins= 'auto')\n",
    "axs[1].hist(force2, bins= 'auto')\n",
    "axs[0].set_title('Force 1')\n",
    "axs[1].set_title('Force 2')\n",
    "fig.text(0.5, 0.02, 'output samples', ha='center', va='center')\n",
    "fig.text(0.02, 0.5, 'frequency', ha='center', va='center', rotation='vertical')\n",
    "plt.savefig('All random normal.jpg')\n",
    "plt.show()"
   ]
  },
  {
   "cell_type": "markdown",
   "metadata": {},
   "source": [
    "# Part II"
   ]
  },
  {
   "cell_type": "code",
   "execution_count": 56,
   "metadata": {},
   "outputs": [
    {
     "name": "stdout",
     "output_type": "stream",
     "text": [
      "0.1123\n"
     ]
    }
   ],
   "source": [
    "N = 0\n",
    "for i in range(R):\n",
    "    if force1[i]<120:\n",
    "        N =  N + 1\n",
    "p = N/R\n",
    "print(p)"
   ]
  },
  {
   "cell_type": "code",
   "execution_count": 57,
   "metadata": {},
   "outputs": [
    {
     "data": {
      "text/plain": [
       "0.0031573518967641222"
      ]
     },
     "execution_count": 57,
     "metadata": {},
     "output_type": "execute_result"
    }
   ],
   "source": [
    "np.sqrt(p*(1-p)/R)"
   ]
  },
  {
   "cell_type": "code",
   "execution_count": 58,
   "metadata": {},
   "outputs": [
    {
     "name": "stdout",
     "output_type": "stream",
     "text": [
      "0.0098\n"
     ]
    }
   ],
   "source": [
    "N = 0\n",
    "for i in range(R):\n",
    "    if force2[i]>10:\n",
    "        N =  N + 1\n",
    "p = N/R\n",
    "print(p)"
   ]
  },
  {
   "cell_type": "code",
   "execution_count": 59,
   "metadata": {},
   "outputs": [
    {
     "data": {
      "text/plain": [
       "0.0009850867982061275"
      ]
     },
     "execution_count": 59,
     "metadata": {},
     "output_type": "execute_result"
    }
   ],
   "source": [
    "np.sqrt(p*(1-p)/R)"
   ]
  },
  {
   "cell_type": "code",
   "execution_count": 60,
   "metadata": {},
   "outputs": [
    {
     "name": "stdout",
     "output_type": "stream",
     "text": [
      "0.12\n"
     ]
    }
   ],
   "source": [
    "N = 0\n",
    "for i in range(R):\n",
    "    if force1[i]<120 or force2[i]>10:\n",
    "        N =  N + 1\n",
    "p = N/R\n",
    "print(p)"
   ]
  },
  {
   "cell_type": "code",
   "execution_count": 61,
   "metadata": {},
   "outputs": [
    {
     "data": {
      "text/plain": [
       "0.003249615361854384"
      ]
     },
     "execution_count": 61,
     "metadata": {},
     "output_type": "execute_result"
    }
   ],
   "source": [
    "np.sqrt(p*(1-p)/R)"
   ]
  },
  {
   "cell_type": "code",
   "execution_count": null,
   "metadata": {},
   "outputs": [],
   "source": []
  }
 ],
 "metadata": {
  "kernelspec": {
   "display_name": "Python 3",
   "language": "python",
   "name": "python3"
  },
  "language_info": {
   "codemirror_mode": {
    "name": "ipython",
    "version": 3
   },
   "file_extension": ".py",
   "mimetype": "text/x-python",
   "name": "python",
   "nbconvert_exporter": "python",
   "pygments_lexer": "ipython3",
   "version": "3.7.4"
  }
 },
 "nbformat": 4,
 "nbformat_minor": 2
}
