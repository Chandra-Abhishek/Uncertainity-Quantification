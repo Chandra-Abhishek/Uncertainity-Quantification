{
 "cells": [
  {
   "cell_type": "markdown",
   "metadata": {},
   "source": [
    "# Uncertainty Quantification Project\n",
    "\n",
    "## Codes Part III\n",
    "\n",
    "### Abhishek Chandra - M2CHPS (University of Lille)"
   ]
  },
  {
   "cell_type": "code",
   "execution_count": 2,
   "metadata": {},
   "outputs": [],
   "source": [
    "# importing support libraries\n",
    "\n",
    "import numpy as np                   # for making arrays, martix, calculating mean, variance etc.\n",
    "import matplotlib.pyplot as plt      # for plottimg histograms etc\n",
    "from scipy.stats import norm         # To use in gaussian distribution"
   ]
  },
  {
   "cell_type": "code",
   "execution_count": 3,
   "metadata": {},
   "outputs": [],
   "source": [
    "# Defining constant input parameters of the model\n",
    "\n",
    "rcul = 8.8e-3          # radius of the iron core\n",
    "rbob = 17e-3           # external radius of the coil\n",
    "rclo = 20e-3           # external radius\n",
    "raim = 9.4e-3          # radius of the magnet\n",
    "\n",
    "hclo = 6e-3            # height of base of the yoke\n",
    "hent = 6e-3            # height of the air gap\n",
    "hbob = 9e-3            # height of the coil\n",
    "hpm = 5e-3             # height of the mobil plate\n",
    "\n",
    "mur = 3000             # relative permeability of the yoke\n",
    "n = 3200               # number of turns"
   ]
  },
  {
   "cell_type": "code",
   "execution_count": 4,
   "metadata": {},
   "outputs": [],
   "source": [
    "# Defining random input parameters of the model (at the moment feeding deterministic values)\n",
    "\n",
    "br = 1.2               # remanent magnetic flux density of the magnet     uncertainty - 5%\n",
    "haim = 10e-3           # height of the magnet                             uncertainty - 5%\n",
    "e = 0.5e-3             # air gap between the core and the yoke            uncertainty - 15%\n",
    "ep = 5e-5              # parasitic air gap                                uncertainty - 40%\n",
    "current = 0.0652       # current in the coil                              uncertainty - 10%"
   ]
  },
  {
   "cell_type": "code",
   "execution_count": 5,
   "metadata": {},
   "outputs": [
    {
     "name": "stdout",
     "output_type": "stream",
     "text": [
      "Determinitic mean of force 1:  147.80442684301696\n",
      "Determinitic mean of force 2:  0.00015857704866025844\n",
      "Determinitic std of force 1:  0.0\n",
      "Determinitic std of force 2:  0.0\n"
     ]
    }
   ],
   "source": [
    "# Defining Constant\n",
    "mu0=4*np.pi*1e-7                                                 # permeability of the air\n",
    "\n",
    "#Calculation of the reluctances\n",
    "Re=e/(mu0*2*np.pi*(rbob-e)*hent)                                  # reluctance of the airgap\n",
    "Rp=ep/(mu0*np.pi*rcul*rcul)+ep/(mu0*np.pi*(rclo*rclo-rbob*rbob))  # reluctance of the paraistic airgap\n",
    "Ra=haim/(mu0*np.pi*raim*raim)                                     # reluctance of the magnet\n",
    "ksia=br*haim/mu0                                                  # magnetomotive force of the magnet\n",
    "\n",
    "# Calculation of the flux\n",
    "# When no currrent is supplied\n",
    "\n",
    "phia1=((Rp+Re)*ksia)/(Ra*Rp+Ra*Re+Re*Rp)                          # flux flowing through the permanent magnet\n",
    "phib1=-(Re*ksia)/(Ra*Rp+Ra*Re+Re*Rp)                              # magnetic flux in the mobil plate\n",
    "\n",
    "#calculation of force 1\n",
    "force1=np.abs((phib1*phib1)/(2*mu0*np.pi*rcul*rcul)+phib1*phib1/(2*mu0*np.pi*(rclo*rclo-rbob*rbob)))\n",
    "\n",
    "# When currrent is supplied\n",
    "\n",
    "phia2=((Rp+Re)*(ksia)-(Re*n*current))/((Ra*Rp)+(Ra*Re)+(Re*Rp))   # flux flowing through the permanent magnet\n",
    "phib2=((Ra+Re)*n*current-Re*ksia)/(Ra*Rp+Ra*Re+Re*Rp)             # magnetic flux in the mobil plate\n",
    "\n",
    "#calculation of force 2\n",
    "force2=np.abs((phib2*phib2)/(2*mu0*np.pi*rcul*rcul)+phib2*phib2/(2*mu0*np.pi*(rclo*rclo-rbob*rbob)))\n",
    "print(\"Determinitic mean of force 1: \",np.mean(force1))\n",
    "print(\"Determinitic mean of force 2: \",np.mean(force2))\n",
    "print(\"Determinitic std of force 1: \",np.std(force1))\n",
    "print(\"Determinitic std of force 2: \",np.std(force2))"
   ]
  },
  {
   "cell_type": "markdown",
   "metadata": {},
   "source": [
    "#  Part III - Importance Sampling"
   ]
  },
  {
   "cell_type": "code",
   "execution_count": 6,
   "metadata": {},
   "outputs": [],
   "source": [
    "R = 1000\n",
    "\n",
    "U = np.random.uniform(0,1,R)\n",
    "\n",
    "br = 1.2               #Remanent magnetic flux density of the magnet (T)\n",
    "br_min = br - 0.05*br\n",
    "br_max = br + 0.05*br\n",
    "\n",
    "br = np.zeros(R)\n",
    "for i in range(R):\n",
    "    br[i]= ((br_max/br_min)**U[i])*br_min;\n",
    "\n",
    "e=0.5e-3             #air gap between the core and the yoke (m)\n",
    "e_min = e - 0.15*e\n",
    "e_max = e + 0.15*e\n",
    "\n",
    "e = np.zeros(R)\n",
    "for i in range(R):\n",
    "    e[i]= ((e_max/e_min)**U[i])*e_min;\n",
    "\n",
    "ep=5e-5  #Parasitic air gap (m)\n",
    "ep_min = ep - 0.4*ep\n",
    "ep_max = ep + 0.4*ep\n",
    "\n",
    "ep = np.zeros(R)\n",
    "for i in range(R):\n",
    "    ep[i]= ((ep_max/ep_min)**U[i])*ep_min;\n",
    "\n",
    "haim=10e-3    #height of the magnet (m)\n",
    "haim_min = haim - 0.05*haim\n",
    "haim_max = haim + 0.05*haim\n",
    "\n",
    "haim = np.zeros(R)\n",
    "for i in range(R):\n",
    "    haim[i]= ((haim_max/haim_min)**U[i])*haim_min;\n",
    "\n",
    "current=0.0652                                  #current in the coil\n",
    "current_min = current - 0.1*current\n",
    "current_max = current + 0.1*current\n",
    "\n",
    "current = np.zeros(R)\n",
    "for i in range(R):\n",
    "    current[i]= ((current_max/current_min)**U[i])*current_min;"
   ]
  },
  {
   "cell_type": "code",
   "execution_count": 7,
   "metadata": {},
   "outputs": [],
   "source": [
    "rcul=8.8e-3                                        #radius of the iron core (m)\n",
    "rbob=17e-3                                        #external radius of the coil (m)\n",
    "rclo=20e-3                                        #external radius (m)\n",
    "raim=9.4e-3                                      #Radius of the magnet (m)\n",
    "hclo=6e-3                                       #height of base of the yoke (m)\n",
    "hent=6e-3                                      #height of the air gap e (m)\n",
    "hbob=9e-3                                       #height of the coil (m)\n",
    "hpm=5e-3                                        #height of the mobil plate (m)\n",
    "mur=3000                                        #relative permeability of the yoke\n",
    "n=3200                                        #number of turns\n",
    "#CONSTANTS\n",
    "#permeability of the air\n",
    "mu0=4*np.pi*1e-7\n",
    "Re=e/(mu0*2*np.pi*(rbob-e)*hent)                                  #reluctance of the airgap\n",
    "Rp=ep/(mu0*np.pi*rcul*rcul)+ep/(mu0*np.pi*(rclo*rclo-rbob*rbob))  #reluctance of the paraistic airgap\n",
    "Ra=haim/(mu0*np.pi*raim*raim)                                     #reluctance of the magnet\n",
    "ksia=br*haim/mu0                                                #magnetomotive force of the magnet\n",
    "#Not supplied\n",
    "#Calculation of the flux\n",
    "#flux flowing through the permanent magnet\n",
    "phia1=((Rp+Re)*ksia)/(Ra*Rp+Ra*Re+Re*Rp)\n",
    "#magnetic flux in the mobil plate\n",
    "phib1=-(Re*ksia)/(Ra*Rp+Ra*Re+Re*Rp)\n",
    "force1=np.abs((phib1*phib1)/(2*mu0*np.pi*rcul*rcul)+phib1*phib1/(2*mu0*np.pi*(rclo*rclo-rbob*rbob)))\n",
    "#Supplied by a current\n",
    "#Calculation of the flux\n",
    "#flux flowing through the permanent magnet\n",
    "phia2=((Rp+Re)*(ksia)-(Re*n*current))/((Ra*Rp)+(Ra*Re)+(Re*Rp))\n",
    "#magnetic flux in the mobil plate\n",
    "phib2=((Ra+Re)*n*current-Re*ksia)/(Ra*Rp+Ra*Re+Re*Rp)\n",
    "#calculation of the force\n",
    "force2=np.abs((phib2*phib2)/(2*mu0*np.pi*rcul*rcul)+phib2*phib2/(2*mu0*np.pi*(rclo*rclo-rbob*rbob)))\n",
    "m1 = np.mean(force1)\n",
    "m2 = np.mean(force2)\n",
    "s1 = np.std(force1)/np.sqrt(R)\n",
    "s2 = np.std(force2)/np.sqrt(R)\n",
    "convf1 = s1/R\n",
    "convf2 = s2/R\n",
    "\n",
    "f = np.zeros(R)\n",
    "g = np.zeros(R)\n",
    "for i in range(R):\n",
    "    f[i]=1/(br_max-br_min)/(e_max-e_min)/(ep_max-ep_min)/(haim_max-haim_min)/(current_max-current_min);\n",
    "    g[i]=1/(np.log(br_max/br_min))/br[i]/(np.log(e_max/e_min))/e[i]/(np.log(ep_max/ep_min))/ep[i]/(np.log(haim_max/haim_min))/haim[i]/(np.log(current_max/current_min))/current[i]\n",
    "    force1[i]=force1[i]*f[i]/g[i];\n",
    "    force2[i]=force2[i]*f[i]/g[i];"
   ]
  },
  {
   "cell_type": "code",
   "execution_count": 9,
   "metadata": {},
   "outputs": [
    {
     "name": "stdout",
     "output_type": "stream",
     "text": [
      "mean for force1 153.35121330369992\n",
      "mean for force2 0.5749424882602282\n",
      "standard deviation for force1 by sqrt R 0.16472483859646544\n",
      "standard deviation for force2 by sqrt R 0.01769565606719191\n"
     ]
    },
    {
     "data": {
      "image/png": "[encoded data removed]",
      "text/plain": [
       "<Figure size 432x288 with 1 Axes>"
      ]
     },
     "metadata": {
      "needs_background": "light"
     },
     "output_type": "display_data"
    }
   ],
   "source": [
    "#plt.hist(force1,bins = 'auto')\n",
    "plt.hist(force2, bins = 'auto')\n",
    "#plt.show()\n",
    "print(\"mean for force1\",m1) \n",
    "print(\"mean for force2\",m2)\n",
    "print(\"standard deviation for force1 by sqrt R\",s1)\n",
    "print(\"standard deviation for force2 by sqrt R\",s2)\n",
    "\n",
    "\n",
    "plt.title(\"All 5 RV\")\n",
    "plt.xlabel('samples')\n",
    "plt.ylabel('freq.')\n",
    "plt.savefig(\"importance all rv force2.jpg\")"
   ]
  },
  {
   "cell_type": "code",
   "execution_count": null,
   "metadata": {},
   "outputs": [],
   "source": []
  }
 ],
 "metadata": {
  "kernelspec": {
   "display_name": "Python 3",
   "language": "python",
   "name": "python3"
  },
  "language_info": {
   "codemirror_mode": {
    "name": "ipython",
    "version": 3
   },
   "file_extension": ".py",
   "mimetype": "text/x-python",
   "name": "python",
   "nbconvert_exporter": "python",
   "pygments_lexer": "ipython3",
   "version": "3.7.4"
  }
 },
 "nbformat": 4,
 "nbformat_minor": 2
}
